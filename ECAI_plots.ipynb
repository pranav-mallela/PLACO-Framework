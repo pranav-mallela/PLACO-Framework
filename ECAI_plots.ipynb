{
 "cells": [
  {
   "cell_type": "code",
   "execution_count": null,
   "metadata": {},
   "outputs": [],
   "source": [
    "import matplotlib.pyplot as plt\n",
    "import numpy as np\n",
    "import pandas as pd"
   ]
  },
  {
   "cell_type": "code",
   "execution_count": null,
   "metadata": {},
   "outputs": [],
   "source": [
    "num_humans = [5, 7, 10, 15]\n",
    "test_sizes = [500, 999, 5000, 9999]\n",
    "datasets = {'cifar10h':'cnn_data','imagenet':'imagenet_data'}"
   ]
  },
  {
   "cell_type": "code",
   "execution_count": null,
   "metadata": {},
   "outputs": [],
   "source": [
    "for dataset,filename in datasets.items():\n",
    "    for num_human in num_humans:\n",
    "        test_size_data = []\n",
    "        for test_size in test_sizes:\n",
    "            data = pd.read_csv(f\"output/{dataset}/accuracy/{num_human}_{filename}_accuracy_{test_size}\", 'r')\n",
    "            data = data[1:-1, :].to_numpy()\n",
    "            print(data)\n",
    "            test_size_data.append(np.mean(data, axis=0))\n",
    "        test_size_data = np.transpose(np.array(test_size_data))\n",
    "\n",
    "        for plot in test_size_data:\n",
    "            plt.plot(test_sizes, plot)\n",
    "\n",
    "                \n"
   ]
  }
 ],
 "metadata": {
  "kernelspec": {
   "display_name": "Python 3",
   "language": "python",
   "name": "python3"
  },
  "language_info": {
   "name": "python",
   "version": "3.8.0"
  }
 },
 "nbformat": 4,
 "nbformat_minor": 2
}
